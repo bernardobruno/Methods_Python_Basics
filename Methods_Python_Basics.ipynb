{
 "cells": [
  {
   "cell_type": "code",
   "execution_count": 1,
   "metadata": {},
   "outputs": [
    {
     "name": "stdout",
     "output_type": "stream",
     "text": [
      "['Jim', 'John', 'Joey', 'Jason']\n"
     ]
    }
   ],
   "source": [
    "# Method - append() --- Adds an element at the end of the list\n",
    "\n",
    "names = [\"Jim\", \"John\", \"Joey\"]\n",
    "names.append(\"Jason\")\n",
    "print(names)"
   ]
  },
  {
   "cell_type": "code",
   "execution_count": 2,
   "metadata": {},
   "outputs": [
    {
     "name": "stdout",
     "output_type": "stream",
     "text": [
      "[]\n"
     ]
    }
   ],
   "source": [
    "# Method - clear() --- Removes all the elements from the list\n",
    "\n",
    "names = [\"Jim\", \"John\", \"Joey\"]\n",
    "names.clear()\n",
    "print(names)"
   ]
  },
  {
   "cell_type": "code",
   "execution_count": 3,
   "metadata": {},
   "outputs": [
    {
     "name": "stdout",
     "output_type": "stream",
     "text": [
      "['apple', 'banana', 'cherry']\n"
     ]
    }
   ],
   "source": [
    "# Method - copy() --- Returns a copy of the list\n",
    "\n",
    "fruits = [\"apple\", \"banana\", \"cherry\"]\n",
    "x = fruits.copy()\n",
    "print(x)"
   ]
  },
  {
   "cell_type": "code",
   "execution_count": 4,
   "metadata": {},
   "outputs": [
    {
     "name": "stdout",
     "output_type": "stream",
     "text": [
      "1\n"
     ]
    }
   ],
   "source": [
    "# Method - count() --- Returns the number of elements \n",
    "# with the specified value \n",
    "\n",
    "names = [\"Jim\", \"John\", \"Joey\"]\n",
    "x = names.count(\"Joey\")\n",
    "print(x)"
   ]
  },
  {
   "cell_type": "code",
   "execution_count": 5,
   "metadata": {},
   "outputs": [
    {
     "name": "stdout",
     "output_type": "stream",
     "text": [
      "2\n"
     ]
    }
   ],
   "source": [
    "names = [\"Jim\", \"John\", \"Joey\", \"Bruno\", \"Bruno\"]\n",
    "x = names.count(\"Bruno\")\n",
    "print(x)"
   ]
  },
  {
   "cell_type": "code",
   "execution_count": 6,
   "metadata": {},
   "outputs": [
    {
     "name": "stdout",
     "output_type": "stream",
     "text": [
      "['Jim', 'John', 'Joey', 1, 2, 3]\n"
     ]
    }
   ],
   "source": [
    "# Method - extend() --- Add the elements of a list (or any iterable), \n",
    "# to the end of the current list\n",
    "\n",
    "names = [\"Jim\", \"John\", \"Joey\"]\n",
    "nums = [1, 2, 3]\n",
    "names.extend(nums)\n",
    "print(names)"
   ]
  },
  {
   "cell_type": "code",
   "execution_count": 7,
   "metadata": {},
   "outputs": [
    {
     "name": "stdout",
     "output_type": "stream",
     "text": [
      "2\n"
     ]
    }
   ],
   "source": [
    "# Method - index() --- Returns the index of the first element \n",
    "# with the specified value\n",
    "\n",
    "names = [\"Jim\", \"John\", \"Joey\"]\n",
    "x = names.index(\"Joey\")\n",
    "print(x)"
   ]
  },
  {
   "cell_type": "code",
   "execution_count": 8,
   "metadata": {},
   "outputs": [
    {
     "name": "stdout",
     "output_type": "stream",
     "text": [
      "0\n"
     ]
    }
   ],
   "source": [
    "names = [\"Jim\", \"John\", \"Joey\"]\n",
    "x = names.index(\"Jim\")\n",
    "print(x)"
   ]
  },
  {
   "cell_type": "code",
   "execution_count": 9,
   "metadata": {},
   "outputs": [
    {
     "name": "stdout",
     "output_type": "stream",
     "text": [
      "['Jim', 'John', 'Jack', 'Joey']\n"
     ]
    }
   ],
   "source": [
    "# Method - insert() --- Adds an element at the specified position\n",
    "\n",
    "names = [\"Jim\", \"John\", \"Joey\"]\n",
    "names.insert(2, \"Jack\")\n",
    "print(names)"
   ]
  },
  {
   "cell_type": "code",
   "execution_count": 10,
   "metadata": {},
   "outputs": [
    {
     "name": "stdout",
     "output_type": "stream",
     "text": [
      "['Jim', 'John']\n"
     ]
    }
   ],
   "source": [
    "# Method - pop() --- Removes the element at the specified position\n",
    "\n",
    "names = [\"Jim\", \"John\", \"Joey\"]\n",
    "names.pop(-1)\n",
    "print(names)"
   ]
  },
  {
   "cell_type": "code",
   "execution_count": 11,
   "metadata": {},
   "outputs": [
    {
     "name": "stdout",
     "output_type": "stream",
     "text": [
      "['Jim', 'John']\n"
     ]
    }
   ],
   "source": [
    "# Method - remove() --- Removes the first item with the specified value\n",
    "\n",
    "names = [\"Jim\", \"John\", \"Joey\"]\n",
    "names.remove(\"Joey\")\n",
    "print(names)"
   ]
  },
  {
   "cell_type": "code",
   "execution_count": 12,
   "metadata": {},
   "outputs": [
    {
     "name": "stdout",
     "output_type": "stream",
     "text": [
      "['John', 'Joey']\n"
     ]
    }
   ],
   "source": [
    "names = [\"Jim\", \"John\", \"Joey\"]\n",
    "names.remove(\"Jim\")\n",
    "print(names)"
   ]
  },
  {
   "cell_type": "code",
   "execution_count": 13,
   "metadata": {},
   "outputs": [
    {
     "name": "stdout",
     "output_type": "stream",
     "text": [
      "['Joey', 'John', 'Jim']\n"
     ]
    }
   ],
   "source": [
    "# Method - reverse() --- Reverses the order of the list\n",
    "\n",
    "names = [\"Jim\", \"John\", \"Joey\"]\n",
    "names.reverse()\n",
    "print(names)"
   ]
  },
  {
   "cell_type": "code",
   "execution_count": 14,
   "metadata": {},
   "outputs": [
    {
     "name": "stdout",
     "output_type": "stream",
     "text": [
      "['Jim', 'Joey', 'John']\n"
     ]
    }
   ],
   "source": [
    "# Method - sort() --- Sorts the list \n",
    "\n",
    "names = [\"Jim\", \"John\", \"Joey\"]\n",
    "names.sort()\n",
    "print(names)"
   ]
  },
  {
   "cell_type": "code",
   "execution_count": 17,
   "metadata": {},
   "outputs": [
    {
     "name": "stdout",
     "output_type": "stream",
     "text": [
      "['Abraham', 'Alexandre', 'Bruno', 'Jacob', 'Yossef']\n"
     ]
    }
   ],
   "source": [
    "names = [\"Alexandre\", \"Bruno\", \"Jacob\", \"Yossef\", \"Abraham\"]\n",
    "names.sort()\n",
    "print(names)"
   ]
  },
  {
   "cell_type": "code",
   "execution_count": 18,
   "metadata": {},
   "outputs": [
    {
     "name": "stdout",
     "output_type": "stream",
     "text": [
      "['Alexandre, Bruno, Jacob, Yossef, Abraham']\n"
     ]
    }
   ],
   "source": [
    "names = [\"Alexandre, Bruno, Jacob, Yossef, Abraham\"]\n",
    "names.sort()\n",
    "print(names)"
   ]
  },
  {
   "cell_type": "code",
   "execution_count": null,
   "metadata": {},
   "outputs": [],
   "source": []
  }
 ],
 "metadata": {
  "kernelspec": {
   "display_name": "Python 3",
   "language": "python",
   "name": "python3"
  },
  "language_info": {
   "codemirror_mode": {
    "name": "ipython",
    "version": 3
   },
   "file_extension": ".py",
   "mimetype": "text/x-python",
   "name": "python",
   "nbconvert_exporter": "python",
   "pygments_lexer": "ipython3",
   "version": "3.8.5"
  }
 },
 "nbformat": 4,
 "nbformat_minor": 4
}
